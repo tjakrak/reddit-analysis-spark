{
 "cells": [
  {
   "cell_type": "markdown",
   "id": "fd64cf56",
   "metadata": {},
   "source": [
    "# Screamers: It is well known that WRITING IN ALL CAPS ONLINE IS A SUBSTITUTE FOR SCREAMING… OR YELLING. *cough!*. (Or some might say it’s simply cruise control for coooooooool). Write a job to find subreddits where users scream a lot, and provide a scream score (a highly-technical metric that you will invent) for the subreddits."
   ]
  },
  {
   "cell_type": "code",
   "execution_count": 3,
   "id": "b2afb630",
   "metadata": {},
   "outputs": [
    {
     "name": "stdout",
     "output_type": "stream",
     "text": [
      "[('SuicideWatch', 44.5945945945946), ('CommonLaw', 39.823008849557525), ('feminisms', 39.39393939393939), ('photography', 28.983688833124216), ('religiousdebate', 27.205882352941174), ('rpg', 26.08695652173913), ('Socialize', 25.520833333333332), ('WeAreTheMusicMakers', 24.801061007957557), ('Christianity', 23.076923076923077), ('iphone', 22.52252252252252)]\n"
     ]
    }
   ],
   "source": [
    "def get_subreddits_scream_score(file_dir):\n",
    "    '''\n",
    "    A wrapper function to get the scream score of subreddits\n",
    "    \n",
    "    Args:\n",
    "      file_dir: A file path (string)\n",
    "    '''\n",
    "    df = spark.read.json(file_dir)\n",
    "    df.createOrReplaceTempView(\"df_view\")\n",
    "\n",
    "    def map_find_scream_comments(s):\n",
    "        '''\n",
    "        A function to indicates which comments are \"scream comments\"\n",
    "        \n",
    "        Args:\n",
    "            s: list of strings contains the subreddit name and the comment - (tuple)\n",
    "        '''\n",
    "        words = s[1].split(\" \")\n",
    "\n",
    "        count = 0\n",
    "        for w in words:\n",
    "            if count == 3:\n",
    "                return (s[0], [1, 0])    \n",
    "            if w.isupper():\n",
    "                count += 1\n",
    "\n",
    "        return (s[0], [0, 1])\n",
    "\n",
    "    def map_calculate_scream_score(s):\n",
    "        '''\n",
    "        A function to calculate the scream score through this calculateion: \n",
    "        (#of_scream_comments / #total_comments) * 100\n",
    "        \n",
    "        Args:\n",
    "            s: tuple of strings contains the subreddit name, #of_scream_comments, and #total_comments - (list)\n",
    "            \n",
    "        Returns:\n",
    "            A tuple which contains subreddit name and the scream score\n",
    "        '''\n",
    "        return (s[0], s[1][0]/s[1][1] * 100)\n",
    "\n",
    "    subreddit_scream_score = spark.sql(\"SELECT subreddit, body FROM df_view\").rdd\\\n",
    "        .map(map_find_scream_comments)\\\n",
    "        .reduceByKey(lambda a,b:[a[0] +b[0], a[1] +b[1]])\\\n",
    "        .filter(lambda v: v[1][1] > 100)\\\n",
    "        .map(map_calculate_scream_score)\n",
    "   \n",
    "    print(subreddit_scream_score.takeOrdered(10, key = lambda x: -x[1]))\n",
    "        \n",
    "\n",
    "get_subreddits_scream_score('hdfs://orion11:23001/RC_2008-12.bz2')"
   ]
  },
  {
   "cell_type": "markdown",
   "id": "44e1caf3",
   "metadata": {},
   "source": [
    "In this question, I used 2008 December reddit data. During that time, the top three subreddit that \"Scream\" the most are SuicideWatch, CommonLaw and feminisms."
   ]
  },
  {
   "cell_type": "markdown",
   "id": "0b22d3cf",
   "metadata": {},
   "source": [
    "# Readability: write a function that computes the Gunning Fog Index and Flesch-Kincaid Readability (both reading ease and grade level) of user comments. Then:\n",
    "- Choose a subreddit and plot the distribution of these scores.\n",
    "- Compare readability of two subreddits of your choosing. Analyze the results.\n"
   ]
  },
  {
   "cell_type": "code",
   "execution_count": 1,
   "id": "d4d26996",
   "metadata": {},
   "outputs": [],
   "source": [
    "import syllables\n",
    "import pandas as pd\n",
    "import matplotlib.pyplot as plt\n",
    "\n",
    "def map_calculate_gfi_fkr(s):\n",
    "    '''\n",
    "    A map function to calculate the GFI (Gunning Frog Index) and FKR (Flesch-Kincaid Readability)\n",
    "    \n",
    "    Args:\n",
    "      s: tuple of strings contains the subreddit name and the comment - (tuple)\n",
    "\n",
    "    Returns:\n",
    "      A tuple which represent [subreddit, GFI, FKR, grade_level]\n",
    "    '''\n",
    "    words = s[1].split(\" \") # Split sentence to list of words\n",
    "    total_words = len(words)\n",
    "    total_complex_words = 0\n",
    "    total_sentences = 0\n",
    "    total_syllables = 0\n",
    "    \n",
    "    i = 0\n",
    "    for w in words:\n",
    "        # Increment number of sentence when we encounter question mark, dot or exclamation mark or reach the end of the comment\n",
    "        if len(w) > 0 and (w[-1] in [\"?\", \".\", \"!\"] or i == total_words - 1):\n",
    "            total_sentences += 1\n",
    "        \n",
    "        # Use syllables library to calculate number of syllables. This library prioritize speed over accuracy\n",
    "        estimated_syllables = syllables.estimate(w)\n",
    "        total_syllables += estimated_syllables\n",
    "        \n",
    "        # According to GFI a word is a complex word if the word contains 3 or more syllables\n",
    "        if estimated_syllables >= 3:\n",
    "            total_complex_words += 1\n",
    "        i += 1\n",
    "\n",
    "    gfi = 0\n",
    "    fkr = 0\n",
    "    # To make sure we do not get infinity number\n",
    "    if total_sentences > 0 and total_words > 0:\n",
    "        gfi = 0.4 * ((float(total_words)/total_sentences) + (100 * (float(total_complex_words)/total_words)))\n",
    "        fkr = 206.835 - 1.015 * (float(total_words)/total_sentences) - 84.6 * (float(total_syllables)/total_words)\n",
    "\n",
    "    # This logic below is used to get the grade based on FKR grade\n",
    "    grade_level = \"\"\n",
    "    if fkr > 90:\n",
    "        grade_level = \"5th grade\"\n",
    "    elif fkr > 80:\n",
    "        grade_level = \"6th grade\"\n",
    "    elif fkr > 70:\n",
    "        grade_level = \"7th grade\"\n",
    "    elif fkr > 60:\n",
    "        grade_level = \"8th and 9th grade\"\n",
    "    elif fkr > 50:\n",
    "        grade_level = \"10th to 12th grade\"\n",
    "    elif fkr > 30:\n",
    "        grade_level = \"college\"\n",
    "    elif fkr > 10:\n",
    "        grade_level = \"college graduate\"\n",
    "    else:\n",
    "        grade_level = \"professional\"\n",
    "    \n",
    "    return (s[0], gfi, fkr, grade_level)\n",
    "    \n",
    "def plot_gfi(file_dir, subreddit_name, bin_number):\n",
    "    '''\n",
    "    This function call another function to calculate GFI and FKR score of a subreddit. Then, this function\n",
    "    will plot a histogram to show the distribution of the subreddit\n",
    "    \n",
    "    Args:\n",
    "      file_dir: A file path (string)\n",
    "      subreddit_name: Subreddit name (string)\n",
    "      bin_number: Number of bin for the histogram (int)\n",
    "    '''\n",
    "    df = spark.read.json(file_dir)\n",
    "    df.createOrReplaceTempView(\"df_view\")\n",
    "\n",
    "    comment_gfi_fkr_score = spark.sql(\"SELECT subreddit, body FROM df_view\").rdd\\\n",
    "        .map(map_calculate_gfi_fkr)\\\n",
    "        .filter(lambda v: v[1] > 0 and v[2] > 0 and v[2] <= 100)\\\n",
    "        .filter(lambda v: v[0] == subreddit_name)\n",
    "\n",
    "    comment_gfi_fkr_score_df = comment_gfi_fkr_score.toDF([\"subreddit\", \"gfi\", \"fkr\", \"grade_level\"])\n",
    "    comment_gfi_fkr_score_df = comment_gfi_fkr_score_df.toPandas()\n",
    "    \n",
    "    #define subplot layout\n",
    "    x = comment_gfi_fkr_score_df['gfi']\n",
    "    y = comment_gfi_fkr_score_df['fkr']\n",
    "    plt.hist(x, bins=bin_number, alpha=0.5, label='gfi')\n",
    "    plt.hist(y, bins=bin_number, alpha=0.5, label='fkr')\n",
    "    plt.legend(loc='upper right')\n",
    "    plt.show()"
   ]
  },
  {
   "cell_type": "code",
   "execution_count": 117,
   "id": "3f275c30",
   "metadata": {},
   "outputs": [
    {
     "data": {
      "image/png": "[encoded data removed]",
      "text/plain": [
       "<Figure size 432x288 with 1 Axes>"
      ]
     },
     "metadata": {
      "needs_background": "light"
     },
     "output_type": "display_data"
    }
   ],
   "source": [
    "# Plot a GFI and FKR distribution of politic subreddit from 2008 December\n",
    "plot_gfi('hdfs://orion11:23001/RC_2008-12.bz2', \"politics\", 20)"
   ]
  },
  {
   "cell_type": "code",
   "execution_count": 118,
   "id": "a9cdb960",
   "metadata": {},
   "outputs": [
    {
     "data": {
      "image/png": "[encoded data removed]",
      "text/plain": [
       "<Figure size 432x288 with 1 Axes>"
      ]
     },
     "metadata": {
      "needs_background": "light"
     },
     "output_type": "display_data"
    }
   ],
   "source": [
    "# Plot a GFI and FKR distribution of AskReddit subreddit from 2008 December\n",
    "plot_gfi('hdfs://orion11:23001/RC_2008-12.bz2', \"AskReddit\", 20)"
   ]
  },
  {
   "cell_type": "markdown",
   "id": "6e961e84",
   "metadata": {},
   "source": [
    "We can see that the distribution of the GFI (Gunning Frog Index) and FKR (Flesch-Kincaid Readability) are opposite to one another. This result is what we expected because the higher the GFI score, the more complex the sentence, but it is the opposite for the FKR score. In FKR, the higher the score means the less complex the sentence is.\n",
    "\n",
    "In this assignment, the two subreddit that I picked are politics and AskReddit. AskReddit is a subreddit to ask and answer thought-provoking questions while politics subreddit is a is for news and discussion about U.S. politics. It is really interesting to see that the complexity of words in politics is higher compared to AskReddit from the graphs. Even though it says that AskReddit is a subreddit to ask and answer thought-provoking questions, when I checked the subreddit content, the majority of the questions are unimportant and do not require a lot of brain power. Some of the questions are: \"If you had the ability to bring back a Canceled Series what would it be?\", \"What is the stupidest thing you believed in as a child?\" and many others. While the politics subreddit contents are more serious. It contains news, politics discussion that requires more brain power/thoughts. In conclusion, I think this result is pretty accurate."
   ]
  },
  {
   "cell_type": "markdown",
   "id": "b8c5cecd",
   "metadata": {},
   "source": [
    "# Toxicity: write a function to perform Sentiment Analysis on comments. You can use a library to do this or roll your own (it’s not hard). Next, compare the toxicity between two subreddits of your choosing. Analyze the results."
   ]
  },
  {
   "cell_type": "code",
   "execution_count": 2,
   "id": "be2382f9",
   "metadata": {},
   "outputs": [],
   "source": [
    "import nltk\n",
    "#nltk.download('vader_lexicon') # To download nltk if the user does not have it yet\n",
    "from nltk.sentiment import SentimentIntensityAnalyzer\n",
    "\n",
    "def map_sentiment_score(s):\n",
    "    '''\n",
    "    A map function to calculate the sentiment score of subreddit comments\n",
    "    \n",
    "    Args:\n",
    "      s: a tuple of strings contains the subreddit name and the comment - (tuple)\n",
    "\n",
    "    Returns:\n",
    "      A tuple which contains -> (subreddit_name, [sentiment_score, 1])\n",
    "    '''\n",
    "    \n",
    "    sia = SentimentIntensityAnalyzer()\n",
    "    score = sia.polarity_scores(s[1])['compound']\n",
    "    return (s[0], [score, 1])\n",
    "\n",
    "def map_calculate_sentiment_score_avg(s):\n",
    "    '''\n",
    "    A map function that calculates sentiment score average\n",
    "    \n",
    "    Args:\n",
    "      s: a tuple contains subreddit_name, sentiment_score_total and total_comments\n",
    "\n",
    "    Returns:\n",
    "      A tuple which contains -> subreddit_name and sentiment score average\n",
    "    '''\n",
    "    \n",
    "    return (s[0], s[1][0]/s[1][1])\n",
    "\n",
    "def get_toxicity_score_subreddit(file_dir, subreddit_name):\n",
    "    '''\n",
    "    A function that calculates sentiment score of a subreddit\n",
    "    \n",
    "    Args:\n",
    "      file_dir: file directory (string)\n",
    "      subreddit_name: name of a subreddit (string)\n",
    "    '''\n",
    "    \n",
    "    df = spark.read.json(file_dir)\n",
    "    df.createOrReplaceTempView(\"df_view\")\n",
    "\n",
    "    toxicity_score = spark.sql(\"SELECT subreddit, body FROM df_view\").rdd\\\n",
    "        .filter(lambda v: v[0] == subreddit_name)\\\n",
    "        .map(map_sentiment_score)\\\n",
    "        .reduceByKey(lambda a,b:[a[0] +b[0], a[1] +b[1]])\\\n",
    "        .map(map_calculate_sentiment_score_avg)\n",
    "\n",
    "    print(toxicity_score.take(1))"
   ]
  },
  {
   "cell_type": "code",
   "execution_count": 23,
   "id": "41b5fef6",
   "metadata": {},
   "outputs": [
    {
     "name": "stdout",
     "output_type": "stream",
     "text": [
      "[('religiousdebate', 0.14368063583815033)]\n"
     ]
    }
   ],
   "source": [
    "# Calculate toxicity on religiousdebate subreddit\n",
    "get_toxicity_score_subreddit(\"hdfs://orion11:23001/RC_2008-12.bz2\", \"religiousdebate\")"
   ]
  },
  {
   "cell_type": "code",
   "execution_count": 24,
   "id": "8f918f37",
   "metadata": {},
   "outputs": [
    {
     "name": "stdout",
     "output_type": "stream",
     "text": [
      "[('Christianity', 0.2803661931818182)]\n"
     ]
    }
   ],
   "source": [
    "# Calculate toxicity on Christianity subreddit\n",
    "get_toxicity_score_subreddit(\"hdfs://orion11:23001/RC_2008-12.bz2\", \"Christianity\")"
   ]
  },
  {
   "cell_type": "markdown",
   "id": "d5f8b1c7",
   "metadata": {},
   "source": [
    "For this question, the two subreddit that I analyzed are religiousdebate and Christianity. Based on the toxicity score average above, religiousdebate seems like more negative compared to christiniatiy. In my opinion this is make sense because religious debate can be intense as people with different religion gather together in a discussion board. As for christianity, I feel like it will be more positive even though the subreddit might contains some debate. Since most of the people in Christianity subreddit probably are christian, the debate probably more constructive and positive.\n",
    "\n",
    "Further analysis can be seen below with the plot. Additionally, I would like to add that according to this website: https://towardsdatascience.com/the-best-python-sentiment-analysis-package-1-huge-common-mistake-d6da9ad6cdeb vader is not that great compared to flair. At first, I wanted to use flair, but it seems like the library requires a lot of spaces and I don't have enough spaces to download it on orion machine."
   ]
  },
  {
   "cell_type": "code",
   "execution_count": 37,
   "id": "791e9987",
   "metadata": {},
   "outputs": [],
   "source": [
    "def map_reformat_data(s):\n",
    "    '''\n",
    "    A map function to reformat input value\n",
    "    \n",
    "    Args:\n",
    "      s: a tuple contains -> (subreddit_name, [sentiment_value, 1])\n",
    "\n",
    "    Returns:\n",
    "      A tuple which contains -> (subreddit_name, sentiment_score, 1)\n",
    "    '''\n",
    "    \n",
    "    return (s[0], s[1][0], s[1][1])\n",
    "\n",
    "def plot_toxicity_score(file_dir, subreddit_name, bin_number):\n",
    "    '''\n",
    "    A function that create a plot for a subreddit based on the sentiment score\n",
    "    \n",
    "    Args:\n",
    "      file_dir: file directory (string)\n",
    "      subreddit_name: name of a subreddit (string)\n",
    "      bin_number: the bin number for the histogram\n",
    "    '''\n",
    "    \n",
    "    df = spark.read.json(file_dir)\n",
    "    df.createOrReplaceTempView(\"df_view\")\n",
    "\n",
    "    toxicity_score = spark.sql(\"SELECT subreddit, body FROM df_view\").rdd\\\n",
    "        .filter(lambda v: v[0] == subreddit_name)\\\n",
    "        .map(map_sentiment_score)\\\n",
    "        .map(map_reformat_data)\n",
    "    \n",
    "    toxicity_score_df = toxicity_score.toDF([\"subreddit\", \"toxicity_score\", \"count\"])\n",
    "    toxicity_score_df = toxicity_score_df.toPandas()\n",
    "    \n",
    "    x = toxicity_score_df[\"toxicity_score\"]\n",
    "    plt.hist(x, bins=bin_number, alpha=0.5, label=\"toxicity_score\")\n",
    "    plt.show()"
   ]
  },
  {
   "cell_type": "code",
   "execution_count": 39,
   "id": "a4910dfd",
   "metadata": {},
   "outputs": [
    {
     "data": {
      "image/png": "[encoded data removed]",
      "text/plain": [
       "<Figure size 432x288 with 1 Axes>"
      ]
     },
     "metadata": {
      "needs_background": "light"
     },
     "output_type": "display_data"
    }
   ],
   "source": [
    "# Plot toxicity score on religiousdebate subreddit\n",
    "plot_toxicity_score(\"hdfs://orion11:23001/RC_2008-12.bz2\", \"religiousdebate\", 30)"
   ]
  },
  {
   "cell_type": "code",
   "execution_count": 40,
   "id": "5fd9d0f6",
   "metadata": {},
   "outputs": [
    {
     "data": {
      "image/png": "[encoded data removed]",
      "text/plain": [
       "<Figure size 432x288 with 1 Axes>"
      ]
     },
     "metadata": {
      "needs_background": "light"
     },
     "output_type": "display_data"
    }
   ],
   "source": [
    "# Plot toxicity score on Christianity subreddit\n",
    "plot_toxicity_score(\"hdfs://orion11:23001/RC_2008-12.bz2\", \"Christianity\", 30)"
   ]
  },
  {
   "cell_type": "markdown",
   "id": "2297a386",
   "metadata": {},
   "source": [
    "Based on the charts aboe, it seems like my prediction before was wrong. The toxicity on both subreddits are almost the same. The amount of the worst comments are almost the same which is around 20-ish. However, it seems like there are more positive comments on Christianity compared to the religious debate."
   ]
  },
  {
   "cell_type": "markdown",
   "id": "69a94805",
   "metadata": {},
   "source": [
    "# Targeted Advertising: given a specific user, find out more about them: where they’re from, what things they like/dislike, and other data about their background (think of at least 2 more things to determine). Note that this should be automated; I should be able to give you a username and you’ll produce a report for them. Provide three sample user reports that we can exploit to create ads they won’t be able to resist."
   ]
  },
  {
   "cell_type": "code",
   "execution_count": 43,
   "id": "f47fbf7d",
   "metadata": {},
   "outputs": [
    {
     "name": "stdout",
     "output_type": "stream",
     "text": [
      "+-------------------+-------------------+---------------+--------------------+\n",
      "|          subreddit|             author|author_fullname|                body|\n",
      "+-------------------+-------------------+---------------+--------------------+\n",
      "|     wallstreetbets|indigoismyfavourite|       t2_noj88|        oof -10% gme|\n",
      "|           kpophelp|           natthatt|    t2_22bikj41|it's not a 'tradi...|\n",
      "|        The_Mueller|        novagenesis|       t2_27352|If Trump is pardo...|\n",
      "|             WillNE|        killedtoast|    t2_5jo22z6o|     thats a classic|\n",
      "|                wow|           DanLynch|       t2_7pmqs|The voice actor i...|\n",
      "|            Sub4Sub|           cookbake|    t2_87q4ibfr|Done \\n\\nDo it to...|\n",
      "|             Madden|       vikings12886|    t2_2nnf6ks3|    Unfortunately no|\n",
      "|pointlesslygendered|    FlairoftheFlame|       t2_cqwfp|My handwriting go...|\n",
      "|                nba|      Coffeeandsoda|    t2_7gdbl69f|Yes, but by sayin...|\n",
      "|     PoliticalHumor|         eggsnflour|    t2_1yn7gmpv|I'm going on a Gu...|\n",
      "|             Crainn|             Nasnro|       t2_h55zz|I'm 100% the same...|\n",
      "|            snooker| theworldisnotquiet|    t2_3vzeldhd|They've Selbyed e...|\n",
      "|     Showerthoughts|       dante_morris|    t2_78mrjenx|When I person is ...|\n",
      "|        Mindfulness|  theplagueddoctor_|    t2_8lamc8xe|It would be helpf...|\n",
      "|     TheGamerLounge|       msinger13480|      t2_15t81h|Ok but hear me ou...|\n",
      "|                civ|          Bjornsnik|     t2_1ktf05v|Regarding the sco...|\n",
      "|        zenbuddhism|        monkey_sage|       t2_g2zd9|As they say \"yout...|\n",
      "|      GuysinPanties|          [deleted]|           null|Would love nothin...|\n",
      "|     wallstreetbets|          [deleted]|           null|           [deleted]|\n",
      "|   SeishunButaYarou|   ShadowHunterHero|    t2_44s3gqtd|That looks more l...|\n",
      "+-------------------+-------------------+---------------+--------------------+\n",
      "only showing top 20 rows\n",
      "\n"
     ]
    }
   ],
   "source": [
    "def show_top_twenty(file_dir):\n",
    "    # Get top 20 subreddit\n",
    "    df = spark.read.json(file_dir)\n",
    "    df.createOrReplaceTempView(\"df_view\")\n",
    "    author_rdd = spark.sql(\"SELECT subreddit, author, author_fullname, body FROM df_view\").show()\n",
    "    \n",
    "show_top_twenty(\"hdfs://orion11:23001/RES-RC_2020-12.zst\")"
   ]
  },
  {
   "cell_type": "code",
   "execution_count": 3,
   "id": "ca8ca063",
   "metadata": {},
   "outputs": [],
   "source": [
    "from datetime import datetime\n",
    "\n",
    "def map_calculate_sentiment_score_avg(s):\n",
    "    '''\n",
    "    A map function that calculates sentiment_score_average\n",
    "    \n",
    "    Args:\n",
    "      s: a tuple contains -> (subreddit_name, [sentiment_value, 1])\n",
    "\n",
    "    Returns:\n",
    "      A tuple which contains -> (subreddit_name, sentiment_score_avg, 1)\n",
    "    '''\n",
    "    \n",
    "    return (s[0], s[1][0]/s[1][1], s[1][1])\n",
    "\n",
    "def convert_utc_to_local_time(s):\n",
    "    '''\n",
    "    A map function that gets the hour from unix utc formatted time\n",
    "    \n",
    "    Args:\n",
    "      s: a tuple contains -> (unix_utc_time)\n",
    "\n",
    "    Returns:\n",
    "      A tuple which contains -> (hour, 1)\n",
    "    '''\n",
    "    \n",
    "    hour_str = datetime.utcfromtimestamp(int(s[0])).strftime('%H')\n",
    "    \n",
    "    return (int(hour_str), 1)\n",
    "\n",
    "def get_author_info(file_dir, author_id):\n",
    "    '''\n",
    "    A function that show the subreddit and the subreddit user response towards\n",
    "    that subreddit. Additionally, this function also show a plot that shows\n",
    "    the user active hours\n",
    "    \n",
    "    Args:\n",
    "      file_dir: file directory (string)\n",
    "      author_id: subreddit username (string)\n",
    "    '''\n",
    "    df = spark.read.json(file_dir)\n",
    "    df.createOrReplaceTempView(\"df_view\")\n",
    "\n",
    "    author_info_query = \"SELECT subreddit, body, created_utc FROM df_view WHERE author == '\" + author_id + \"'\"\n",
    "    author_info = spark.sql(author_info_query)\n",
    "    author_info.cache()\n",
    "    \n",
    "    # Getting subreddits that the author participate in\n",
    "    author_subreddits = author_info.select(\"subreddit\",\"body\").rdd\\\n",
    "        .map(map_sentiment_score)\\\n",
    "        .reduceByKey(lambda a,b:[a[0] +b[0], a[1] +b[1]])\\\n",
    "        .map(map_calculate_sentiment_score_avg)\n",
    "    \n",
    "    # Active time of the author\n",
    "    author_active_time = author_info.select(\"created_utc\").rdd\\\n",
    "        .map(convert_utc_to_local_time)\\\n",
    "        .reduceByKey(lambda a,b: a +b)\n",
    "    \n",
    "    print(\"author id: \" + author_id)\n",
    "    author_subreddits.toDF([\"subreddit\", \"sentiment_score\", \"num_of_posts\"]).show()\n",
    "    \n",
    "    print(\"author_active_time\")\n",
    "    author_active_time_df = author_active_time.toDF([\"hour\", \"count\"]).toPandas()\n",
    "    \n",
    "    x = author_active_time_df[\"hour\"]\n",
    "    y = author_active_time_df[\"count\"]\n",
    "    plt.bar(x, y)\n",
    "    plt.xlabel('hours')\n",
    "    plt.ylabel('frequency')\n",
    "    plt.show()"
   ]
  },
  {
   "cell_type": "code",
   "execution_count": 4,
   "id": "540015a7",
   "metadata": {},
   "outputs": [
    {
     "name": "stdout",
     "output_type": "stream",
     "text": [
      "author id: indigoismyfavourite\n",
      "+--------------+--------------------+------------+\n",
      "|     subreddit|     sentiment_score|num_of_posts|\n",
      "+--------------+--------------------+------------+\n",
      "|wallstreetbets|0.027624475524475518|         143|\n",
      "|     investing|                 0.0|           2|\n",
      "+--------------+--------------------+------------+\n",
      "\n",
      "author_active_time\n"
     ]
    },
    {
     "data": {
      "image/png": "[encoded data removed]",
      "text/plain": [
       "<Figure size 432x288 with 1 Axes>"
      ]
     },
     "metadata": {
      "needs_background": "light"
     },
     "output_type": "display_data"
    }
   ],
   "source": [
    "get_author_info(\"hdfs://orion11:23001/RES-RC_2020-12.zst\", \"indigoismyfavourite\")"
   ]
  },
  {
   "cell_type": "code",
   "execution_count": 7,
   "id": "556936fe",
   "metadata": {},
   "outputs": [
    {
     "name": "stdout",
     "output_type": "stream",
     "text": [
      "author id: Coffeeandsoda\n",
      "+---------+-------------------+------------+\n",
      "|subreddit|    sentiment_score|num_of_posts|\n",
      "+---------+-------------------+------------+\n",
      "|      nba|0.37411666666666665|          12|\n",
      "| MkeBucks|            -0.0258|           1|\n",
      "+---------+-------------------+------------+\n",
      "\n",
      "author_active_time\n"
     ]
    },
    {
     "data": {
      "image/png": "[encoded data removed]",
      "text/plain": [
       "<Figure size 432x288 with 1 Axes>"
      ]
     },
     "metadata": {
      "needs_background": "light"
     },
     "output_type": "display_data"
    }
   ],
   "source": [
    "get_author_info(\"hdfs://orion11:23001/RES-RC_2020-12.zst\", \"Coffeeandsoda\")"
   ]
  },
  {
   "cell_type": "code",
   "execution_count": 6,
   "id": "a0da812c",
   "metadata": {},
   "outputs": [
    {
     "name": "stdout",
     "output_type": "stream",
     "text": [
      "author id: eggsnflour\n",
      "+-----------------+---------------+------------+\n",
      "|        subreddit|sentiment_score|num_of_posts|\n",
      "+-----------------+---------------+------------+\n",
      "|   PoliticalHumor|            0.0|           2|\n",
      "|    modernwarfare|            0.0|           1|\n",
      "|      Cringetopia|            0.0|           1|\n",
      "|     MakeMeSuffer|            0.0|           1|\n",
      "|     2meirl4meirl|        -0.2617|           1|\n",
      "|holdmyfeedingtube|        -0.3612|           1|\n",
      "|     pcmasterrace|            0.0|           1|\n",
      "|         StarWars|        -0.6908|           1|\n",
      "+-----------------+---------------+------------+\n",
      "\n",
      "author_active_time\n"
     ]
    },
    {
     "data": {
      "image/png": "[encoded data removed]",
      "text/plain": [
       "<Figure size 432x288 with 1 Axes>"
      ]
     },
     "metadata": {
      "needs_background": "light"
     },
     "output_type": "display_data"
    }
   ],
   "source": [
    "get_author_info(\"hdfs://orion11:23001/RES-RC_2020-12.zst\", \"eggsnflour\")"
   ]
  },
  {
   "cell_type": "markdown",
   "id": "8dd8cf99",
   "metadata": {},
   "source": [
    "For this question, I analyzed three reddit users: indigoismyfavourite, Coffeeandsoda, and eggsnflour. The most active users out of the three is indigoismyfavourite. It seems like he is interested to know about the stock market trends. He is pretty active as you can see that he has a total of 145 posts/comments on December 2020 alone."
   ]
  },
  {
   "cell_type": "code",
   "execution_count": null,
   "id": "0c798aa6",
   "metadata": {},
   "outputs": [],
   "source": []
  }
 ],
 "metadata": {
  "kernelspec": {
   "display_name": "Python 3",
   "language": "python",
   "name": "python3"
  },
  "language_info": {
   "codemirror_mode": {
    "name": "ipython",
    "version": 3
   },
   "file_extension": ".py",
   "mimetype": "text/x-python",
   "name": "python",
   "nbconvert_exporter": "python",
   "pygments_lexer": "ipython3",
   "version": "3.8.8"
  }
 },
 "nbformat": 4,
 "nbformat_minor": 5
}
