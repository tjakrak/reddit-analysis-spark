{
 "cells": [
  {
   "cell_type": "markdown",
   "id": "f214a58b",
   "metadata": {},
   "source": [
    "# Trending Topics: Assuming you receive Reddit comments as a live stream, build a Spark streaming application that will consume the stream and determine what topics are trending over a particular window of time."
   ]
  },
  {
   "cell_type": "code",
   "execution_count": 19,
   "id": "f5dd4cab",
   "metadata": {},
   "outputs": [],
   "source": [
    "from pyspark.streaming import StreamingContext\n",
    "\n",
    "# The \"1\" here is the number of seconds between microbatches:\n",
    "ssc = StreamingContext(spark.sparkContext, 1)\n",
    "\n",
    "# Required to be able to do state updates:\n",
    "ssc.checkpoint(\"checkpoint\")"
   ]
  },
  {
   "cell_type": "code",
   "execution_count": 20,
   "id": "29146da4",
   "metadata": {},
   "outputs": [],
   "source": [
    "# Assumes the stream is running on the same machine as the driver.\n",
    "# ./streamer2.sh 23999 /bigdata/mmalensek/data/reddit/2005/RC_2005-12.bz2\n",
    "\n",
    "sock = ssc.socketTextStream(\"orion05\", 23999)\n",
    "\n",
    "# Updates our distribution\n",
    "def update_dist(new_values, old_values):\n",
    "    return sum(new_values) + (old_values or 0)\n",
    "\n",
    "# line = sock.map(lambda word: word)\n",
    "\n",
    "# distrib = line.updateStateByKey(update_dist)\n",
    "\n",
    "# Print out the distribution for good measure\n",
    "sock.pprint()"
   ]
  },
  {
   "cell_type": "code",
   "execution_count": 21,
   "id": "31708aac",
   "metadata": {},
   "outputs": [
    {
     "name": "stdout",
     "output_type": "stream",
     "text": [
      "-------------------------------------------\n",
      "Time: 2022-12-19 01:56:24\n",
      "-------------------------------------------\n",
      "\n",
      "-------------------------------------------\n",
      "Time: 2022-12-19 01:56:25\n",
      "-------------------------------------------\n",
      "(�/�\u0004Ht*\u0004\f",
      "�\u0005{\"archived\":false,\"author\":\"HRNNNGH\"_created_utc\":1533311589flair_background_color\":nullcss_classrichtext\":[]template_idtexttype\":\"textfullname\":\"t2_1kcmg9n3\"patreon_flairbody\":\"I LOVE THIS\",\"can_gild\":truemod_postcollaps_reasoncontroversiality\":0,\"43622400,\"distinguisheeditgilded\":0ings\":{\"gid_1d_23\":0},\"id\":\"eatm38p\",\"is_submittelink_id\":\"t3_a1vhzf\",\"no_followparentpermalink\":\"\\/r\\/ACPocketCamp\\/comments\\/\\/welcome_to_my_hair_salon\\/\\/\",\"removalretrieved_on\":1546258274,\"score\":4,\"send_repliesstickisubreddit\":\"\"5_3pg1sname_prefixed\":\"public\"}\n",
      "ThatBelligerentSloth424423494lhae2So basically your statement is \\\"more people would join if the RCMP didn't have to do its job\\\"? 5537208cd2sgm8kvop1_ecbyxfbCanadaPolitics8kvop\\/shortstaffed_rcmp_look_at_lifting_ban_on_recruits\\/7956767-12s4gtRshackleford255491653uyl2qIn\\u2019t. Eagles pass D sucks4416195bh7smk4sbf0bh7jadfantasyfootball4sbf0\\/official_sunday_night_postgame_thread\\/41885019qlqqm1ndwipe341571540\"\"userGray\"e758c8e6-fda3-11e0-8674-12313b0cf4c9text\":\"Galaxy S8, Xperia XZ2C\"dark88s7iThey did. Several years ago.5328248c706si7yv09c6zg79Android7yv09\\/samsung_seems_to_have_backtracked_on_time_limit\\/85454520hstalkervoirthrowaw5410393962ghkiw9wJust pirate it then instead of playing terrible mods that aren't representative of STALKER whatsoever551310dekka8sa9dddv7a8sa9d\\/how_to_get__coc_working_onekka62299r74mpinzoi1389813160etq8rspot reduction is a myth\\n\\n\\nhowever, exercises loses fat overall, and the more muscles youin an area the less pronounced fat will be\\n\\nI'm at a relatively low weight (125 lb) but my stomach looks awful. If I were to liftdevelop some good ca beer gut3964699b3mnsv35qz6TooAfraidToAsk35qz6\\/do_pushups_help_lose_chest_fat\\/0243512ssp7snowlock95294342horde-druid\"c68b996c-ea2a-11e1-a847d14a568frvrrIt showa tendency to rename to an inappropriate name. To get banned for thineedthis a number of times. Constantly using costs resources and is just annoo the support person4109901b7u0zk3kyz1b7f9uwowkyz1many_name_changes_do_you_get_before_ban\\/951071wowqio8SevenSulivin476644231\"Map Staring Exper12633The HOI4 game tinkered withideaied5316298c6kuaw7o1iwc5kh2sparadoxplaza7o1iw\\/join_democratia_universalis_for_a_game_of_eu4_the\\/847365su3hJakesta7371673117flairsnespowersuitc3duoAs someonetyphates motion ls,he trilogy on the Wii far superior experience thanGameCube457806blpsu959jjdMet59jjdshould_i_play_the_prime_series\\/495813rrd6Letters1097357263g3nj1Brr932859w1g906i1ojunpopularopinion6i1oj\\/gucci_is_shit\\/670034tk0sJustinat0172795025y1rfAgreedifa family history of ischemic strok ask your doccan be put on blood thinners. My mom wasn't after she had sTIAher TIA became a, her sister had a TIAdoc prescribet hrecurred.5493103cbp3sr8ig61_ecaxlk8ig66\\/help_not_a__but_tia\\/9335662qsrybefooks51174279ep6oIirc, he lostave on his Xbox for one  or another and can't be botherreplay it.Edit: NVM THOUGHT YOU MEANT SKULLS OF THE SHOGUN. SORRY92daonorthernliondao\\/anyone_know_what_happened_to_blades_of_the_shogu9262t6sjRaymondLif52731441g38uvwTIL488824j5q864ypccj4oovDoesAnybodyElseypcc\\/dae_hate_when_theyto_sht_right_after_taking\\/4515408r5vt[deleted]42079051546778497bb0n2j40cz31_ebawjzbuildapc0cz3\\/is_it_alif_ibad_cable_management_in\\/3145162nveRayFinkle19841353965789pvz usually fiaWhole Foods on Dale Mabry. Askcheese counter. Kinda easy to miss61400cuiux0as1rxtampas1rx\\/where_in_tampa_can_i_buy_halloumi_\\/82507093tampa7ihremov574194cimm529emg9asktr9emg9\\/high_smv_but_still_getting_resulimm528050248y2smreaper527134383383\"flair-Wobur8iw9h&gt; In 1967, the MLB minimum player salary was, in 2018-equivalent dollars, about $53,000. Today, it's over $535,000!\\n\\nthat'what misleading (oraccuratela case of correlation without causality). i1960's, television revenue was under $30m\\/year for mlb, where as today10b. 30m from 1967 adjustinfis only $225m. doesn't even touch on how muchmoney is coming insponsorshipmerchthere was60's. thes are makingbecause they are produc5542988d8bpe87rar1_ec9rvabost87rar\\/iteam_seasonal_ups_workers_had_almost_entire\\/79593752qh3rAutoModerato257410686l4z3Welcome to r\\\\\\/RandomActsOfBlowJob! \\n\\n[Other #Nashville posts.](https:\\/\\/.com\\/r\\/search?q=title%3A+%28+%3Ajob+ORMuffDive+%29&amp;sort=new&amp;t=all&amp;include_over_18=on) ([RSS fenotification.rss)\\n\\n***Note***: You MUST enable [NSFW  i.imgura3i5XQ2.jpg) in[preferencewww.prefs\\/)web site forto work in apps as well!\\n\\n#[READ THIS12zza\\/metapsa_one_does_not_simply_ban_trolls\\/) ([1about\\/sticky?num=1)) and [THIS!217nzyou_must__nsfw__in22))\\n     \\n[sidebar) - [rulrules) - [message mod\\/compose?to=%2Fr%2FJob)\\n\\n---*I am a botthis acas performed automatically. Please [contacms of](\\/?to=)have any questions or concerns.*6008844\"\"cqd65faaxaaxz6\\/m4f_n_nye_weekend\\/81805171fals\":\"tpfaMcIgglyTuffMuff378080457leftshcz5tc~~I mean arof us actokay?~~\\n\\n4120379b89kpp3o9021_eb88suwpopheads3o902\\/thursday_general_discussion_december_06_2018\\/7267929339nwjRed-dedd1513860699ownk9hjBut how\\/why diddo that?6267235cy2ktrayvi1cxsd6starterpackayvi1\\/mom_in_mid_40s__pack\\/83257232packs4o9sPissedBadger48072902139qsqI do envy teen. I was  served in pubs at 15 (uk) nonechallenge 21 bollocks likeis now. Iron I am now a licensee and extremely vigilant when it comes toage drinking439bgorqj4o90ebglhkefunny4o90e\\/my_local_bar_has_a_drunk_test_for__leavgorqj09956funn2qh334142369b96tbs3p08r88e2zAskReddit3p08r\\/what_is_the_most_first_world_problem_youve_had_or\\/283711iFalco22139886571pn8gxYou'd animation Super Mario Bros Z on YouTube by Alvin Earthworm.  It's pretty lit5691574chhza92icdcgh0orsmashbros92icd\\/classic\\/8031263iepRyborg-125361345254hfagIt would never , but whatthe ideaonce a sparky has been zapped, although it resets, it \\u201ccharges it up\\u2015% more damage next hit. Istack or build up onzaps taken,  if its by electricityt receives a boost survivth94415okf1zv1wsmt45wClashRoyal9v1wsfix_clash_royale_card_reworks\\/15025103bog8a_girl_d799692amd4ccDriving aroundpictures during a hurricane. Almost destroyed my car023019bym03d6wn866wn86dangerous_stunt_you_barely\\/771330214515894bjvzvd53hbofight53cz3\\/canelo_alvarez_vs_fielding_live_stream\\/463830sdlm0restrictedIf youNNN you are on track to heave9hx20umeme1x20u\\/all_the_way_batm39h1memejpgAubergineQueenB48289510713wzuDworry. I didlearn until 29. Im a30... but seriouslyear. ELF ha ones, upgrade aget better. The ladies at Ulta are great at teachinglkone day and saidhelp with foundatihey taught mecolobrushcontouring.5970921cpgr41a0mlc1_ecojqoAskWomena0mlcare_some_groominghygienebeauty_tips_that_you\\/81653592rxrwKeepingDankMemesDank520156308puls\"ffb2cee0-b85e-11e4-89d8-22000b6a0488\"Reekachuztrw2k#MERRY [CHRISTMAdank96w3b\\/merry_christmas) \\n\\n Iis a dank meme, **Upvote**!notDownpost breaks the rules, **report** it and^Thank ^you ^for ^helping ^us ^in ^k ^ ^dank. [^Hitup) ^ifhave ^any ^. ^( ^I'm ^a ^bot)845357li40u9qfvu9qfvu\\/thanks\\/0986781zmfeYou_can_call_me_Jo426704896mc9rThat was a solid kick.  The victimvery untrained4412478bh3wmy4rowti_regre4rowt\\/guy_tries_to_take_a_kick_from_an_mma_fighter\\/7417036532dy06102880ct7rkakvqkBrownsRavensLiveTvakvqk\\/browns_vs_ravens_nfl_2018_live\\/82287141tlbakMidnightParty67909583zbn7vI just turn offusic and pop inew Broly sound90171uynow6ga2eDragonballLegen6ga2e\\/be_honest_thislacks_good_mubuynow76518882h1zup50891310dmsq9q5cszboo\\/cbsfun_casey_anthony_turns_back_ti1982\\/7430251b2qh4iDistanceProduc499346666jhb3cI think advertisements online are seen as a waste to watch but logos on shirtstatus symbol dependinglogo. Plus are forcedbefore videos and nobody likessomethingd750421itpy79fgi5minimalism9fgi5\\/paying_extra_for\\/8053584r0z9cayo_shee54353747321f6tisIt's sad to see how short dog's lifespan is. But hey,are the best companionship.\\n\\nIt may be designedway, so we really valuonese love0940940j4ya71fajMGTOW71faj\\/i_wmoy_with_thei_loved_most_17_years_ago\\/7745618MGTOWsjgcverdants396471825fynmtThe eternal struggl44806iwbfm4ylh6Showerthou4ylh6\\/we_love_sleep_but_hate_going_to_bed_eariwbfm447151zyotheuberchemis488785015ye6pcute!! \\ud83d\\ude0d4413612bh552m2v1k6transpositive2v1k6\\/semester_as_myself_complete\\/17613tku5OFTHEHILLPEOPLE357320078a3oqWe'll,Lindsey *\\\"Whyou being soto my alcoholic rapist friend whowants to make important national court decisions\\\"* Graham, sopthe cours39586563egox337ud1_eb2zubp337ud\\/cia_briefans_say_no_\\/02053cneqAstrophel37447923067s6qlv&gt;Great evil\\/misfortune can and does tothrough no fault of their own\\n\\nTjust punishmentorroup ofupset god.  Or itest of a faiththe devil's doingZeus wain a bad moo638290n7v8g5if5j1_ebmvep5todayilearned5if5j\\/tilthe_philosopher_william_jamn7v8g521171qqjcOnua_741720367e21hxp5Being Gentaro iopanyway. XD\\n\\nAnyway,d choose Oren\\/Bravo. Omy favorite Riders, upwith Skull58018ckimrr9llrKamenRid9llrt\\/_who_is_kr_character_youd_like\\/808207926s8q8ArtAndCa3918466f6daYou cleaned up all those little plastic bits right???!!?4561329bl4up57zg5Justrolledintotheshop7zg5\\/theythe_surgeon_70_stichl4upr4860347ttehredneckgymra381786646\"\"blu446534c2-8bc8-11e1-b4428a5115'6\\\" | 168 cmdielh&gt; I hav cousins and a brotherare a coupleyoungn me,owing up so fast. \\n\\nYep, children tenat!  Blink'n.\\n\\n'm fairlyat 5'6 and I'm 17 so tall very soonMaybe.  In fairness, probably.  But understatspecu.  Ied, yetHow do you dealrehenseeyou? \\n\\nBlder.  Biggermatter, so treat it as the irrelevancyit isI knowwill rub it in my faceAgain.  You'reng.  Tin your imagiis rootyour own insecuritieso surgobehave like jerks?'m drththey becommeI don' to be picked on by them for my heighSon again! \\n\\nStoping scenariosyou are bullied bywhoupposbe lovwards you.\\n\\n,oveere's no reason you've providouldmeyou weizedconvincyou6246040cxo1cub4ahlshortb4ahl\\/how_do_you_guys_deal_ve\\/831895shortsgviAltrissa702957bwwe5*Image Transcription: Job posting*Igood knowledge of HTML5 CSS3 and JQuery pread on!\\n\\nThis position involves custom web developmententire project life cycle. Ye freedom ofsitesleadershiprogramming skills. Ourercapable of fullincluding applicrchitecture input site layout\\/user interface databas\\/and .NETamp;nbsp;\\n\\n**E**Preferred+ 1 year(s): In a Software D or Web Design roleduRequiBachelor of Arts or in Neuroscience^^I'm&amp;#32;ahuma#32;volunteercontenttbfoReddiandyoucoulbetoo![Ifyou'likmoreinformatiowhawdowhyit,clickhere!r\\/bersOf\\/wiki\\/index)4026728b5aae83dn3xPerHumo3dn3x\\/i_knew_i_choserong_degree\\/7052238150tex6HookedOnPhoenix_473351968119pjNope!gentleman called our sales department andwantupgrade his furnace. Soldiscovered upon replacement! Hes luckyliveylink3_a1un51_eat9guHVAC1un59\\/yeouchy4HVAC5_2s8msJamesOrCook27668623mkoizYeah I'm aed about a nerf if I'm honeswas a revelaIdit. Is itgo to gun too?491641j8wkg521xw1_ebj8tsoreddeadredemption2521xw\\/the_varmint_riflebest_gun_in_rdr2_online\\/74530391x2n9mpersico364996207b6h9y&gt; *Practicinglive demoes plogging in.*Joel Berger, \\n\\nCorollary - do NOT makepasswordyou cot tellmother. :-)#x200B;39334072hlwu2vpvvperl2vpvvamp_mojoconf_recap\\/0052054perlqh5e88431mw2vkqtfe9qtfeis__your_most_elitist_viewpoimw2vk1220371iBabyStockholmSyndro4506249t3psvNot here. We had 4area withlast few. 1 is lefit'sne that has bere forever. 2inbuss1a31oqip\\/small_bookstores_are_boominga314Vejbya61162431xblbhSame dude. Sam569240chiz9399gkschiyc5Blackops49gkmany_killsusually_get_in_blackout\\/8031708untlfeathergnome372199827af90550-faae-11e0-819d78c8girls joust wanna have fun7qltzI've definitely it. I won't be in any place to date anyone Feb\\/March, soreach outat lean. \\n\\nbe surprised if he turns me down,shitty of mrop him after twoexcellent dates. It hurt a bunch405303b6cnrr3fdhe1_eb63hsxOkCupi3fdhe\\/last_date_o\\/707017rct2Mornitud517491887uwjbjv&gt; N'\\u00e9tait-ce pas parce que ce mouva dpass les clivagesn j'ai surtout l'impression que ln'a pas encore atteint c. Dans le sens o\\u00f9proteste, mais nedique aucune que. Or on ne peut pas \\u00eatre contre la, vivre en socit,7a impose d'avoir  \\nDonc, si onles GJ servent0 quelque chose, qu'est ce qui arrivera ? Quelles mesures seront prises ? Est-lsurvivraune desur dconcr\\u00e8tes ? J'ainon. Il y a smoindre doute des sous-ensembles duqui ont destss (plus ou moins 9alistes. Je me rappelle bien rit en ayant lu l'interdiction deslocalisations)rien qui puisse coaliser4541713bkeezw56xpwfranc56xpw\\/que_faire_la_volution_sans_convs\\/472425qhjzKingofJericho340578451ywjmhfThis reminds mhe time my local radio show wa a trivia contest ussubject of pro wrestling. The hostDusty Rhodes andoncallers askOlympicresponded, \\\"no no we're talkin bout real not'that greco-roman stuff.\\\"knowmay seem random bupostbrback an old memory572032ci9x769cqy0SquaredCircl9cqy0\\/modusy_opening_gifts_post_real_rasslin\\/8044333sljgMohammed420blazei402512420gxx16Bethesda fell waof whatclaimewellmakes a good game regardless of hypThe beginswantisn open world MMO rpg community basedal shooter.try be a bit of everything but notnyose things particularly well606643csebm6aik321_ecscnjyfo76aik32\\/sorry_whats_the_issue\\/21494fo76jrw25yco48316395{\"a\":\":Liverpool:\",\"e\":\"emoji\",\"u\":\"emoji.redditmedia2kmoq4w6bd11_t5_2qi58\\/\"}]text\"t2_sc97l*Ancestor, my mistak45884bm0qtc5bhj1blzytusocc5bhj1\\/alisson_save_vs_milik_92\\/7500922qi58Oh no! I meant w4m!! Ima femalprove it4850527btqc3k6ce9oFr46ce9o\\/35_m4w_curvy_sexpot_peninsula\\/631191SFr4st8utheoneandonlydk49013300616dwv8\"look  preset name xD584128clcvc69oj2b1_ecl35xRLFashionAdvicoj2b\\/some_trippy_design_i_made_last\\/80962323ch88FlyForANiceGu5461724792vzrrj5nCourag6174472cvarl8aug9hcv40ojproductaug9h\\/re_a_shop_for_ers\\/26376162s2j1745161ip61x9saf1_ecilhu4ic\\/canada__a_mummified_dinosaur_from\\/051442qh0uviolentbandana458089725ill{\"e\":\"text\",\"t\":\"Billswf3f5Ya cuz foles winning lel019543byikej6usn2byiinpnfl6usn2\\/_philadelphia_eagles_67_at_los_angeles\\/77116874nfqmg3DirectlyTalkingToYo35198597obpbSo who won5958107p2dba9z1togaming9z1to\\/divorced_s_dont_cate_both_tried_to\\/81586430h0JrDidNothingWrong529476271NBA\"[CLE] Delonte Wes1h1pu5oso goo145329ald3qmf71_eb978fnb3qmf7\\/top_5_duos_25_games_into_the_season\\/7285523nbao4swabbit040725422hqih&gt;Weexport 12% of our GDP to the EU\\n\\nWe cannot separate EU tradeworlddueRotterdam effect - you missedone\\n\\nWhat no one BREXIT campadmit isinveswe getoutsidEUus beingEU.  Ainteralspir EU HQ'UKwthe most convenient gateway into Europe5231744c45tns7maln1_ec425aukpolit7maln\\/the_brexiteers_idea_of_how_wto_rules_would_work\\/8066805_2qhcvcronf412170mo\"cbc25dcc-55cc-11e7-bd60-0efa78d18bMNKinm7sadlyurrent system is fawuha5949053corgvf9y7lffxiv9y7l2\\/housing_in\\/815353ffxirgs7CDudd48311194413zp5eYou canown ringtones for free \\n\\nhttp:\\/\\/www.igeeksbloghow-to---iphone--in-itunes\\/1363911guat7a71f688gate7a7ks\\/doesbelong_here\\/77613673fkypd_utcxt072305bzru0c6wk50bz8iipwk50\\/three_of_the_top_4_teamsrams_chiefs_patriotszru0c732839thawkins130176780add426a2-17ab8735d096aaeDEVELOPER51s27^^only way to force a browser cache refresh ofntended file change thenatprogrammaticdo it4129407b8n3fx3olkjb84xctMagento3olkj\\/clear_ers__\\/274233x9ePieisgood18431967335njn5uAreble to enlist as a paralegal in ANG now16120529u507bk701_ec245haiguar7bk70\\/ang_jag\\/7749002vb9dsun_and_stars5337907961y5v2kkThank you!!39098b22atf2q1d7b0eupFirefight2q1d7\\/can__tell_me_what_fire_s_helped\\/64004721ray9lillycanovelll92802522chqb09is to me!! And ohand yessuper fucked up\\/I was upfront and feltllto keep i wraps. Itbeena yearonestlystill not over it butve o realizhleasteatime job and Ineglected myself for a couple of monththis mabreakup feel soworse.cautious now andfeel out f Ihewith me ifwant ithe right reasons orcanhandle all my shit. Lesson learned. Safe guard your hearobe anybodys reboundaregonna774052jlmrhf3dmdating_af3dm\\/irl_ended_ou__of_my\\/8066651s4klTodecideto5306850221p9c0k7A thumb with a rawn5876408cmmty69ud1uRoastMud1u\\/r_worst\\/11771937xo23757348ig8v84kytCelebhub84kyt\\/selena_gomez_side_boob\\/78791iuc8gtom-employerofwords09669311wid1Howdndle switchinga moduan APmiddthe AP? Is the 3rd book of RotR conducivat61382ugubnr041ua79dPathfinder_RPGr041\\/do_igeinner_sea_world\\/824972trmsBoomer059492673039178kle&gt; in facpaid\\n\\nYmake $90kbe ''ve outrageous student loancc debtrion of it. Again,jobsfor adults.6016978cqodrba7wqz1_ecq6nuxBlackPeopleTwitta7wqz\\/period\\/185768133x33IIPUNCHCHILDREN37058450oubbWhat did it say4377bftcje4l4pbbfipkkbackpack4l4pb\\/mytime_of_life_that_get_client739528332qpczuncle_sti86427862155cl7Relocating ened species. r\\/overthetopreactions922947vqct66ktgjWTF6ktgj\\/im_a_little_disturbedlego_is_encouragbvqct6766483WTFh61Deathstroke52866394948yvhdxB it is 2018 game awardthey havdone anto warris in 20185706838chy4rd95o1wchenl3cyberpunkgam5o1wn_forget_to_vote_for_cdpre_best_er\\/803879963az7xTorisen30498010957p2I didhink to check Fenix, thanks!4660694bo18ls5kxuh1_ebnvkjflashligh5kxuhodd_request_need_good_uv__to\\/753489712qjmyheLostSkellyto498578594h0yi4Ialready forgottenagamthe trailercrashed corporate colony shipsolvmystethe planeon.  Help?not Outer World's or Scavengerss came latershow allu swift replies,Journeye Savage Planet4156721929b9nygb3us1cGa3us1c\\/tgathe_game_megathread\\/2917524Gaqhwpandafterflyingi536515146\"#ccffcMod \"},Hammershotbskjhheoh27239iea\\/\"},Stryfeahjp98o\"}\"a749d7ae-0a66-11e9-8f3e-0e70bfac06f0tex:: ::\"t2_22af3btjm not Coop5948427coqkyca1qlxcoqk2fCoop772a1qlxsub_is_under_construction\\/8153138139ieaL1894082152nmppotherr insuhelpfulwhytitlethe wish expressJon that  checks do nothing Shoulattemptd the article,a dumpster dive through **outdated 1991 laws in California** and quoteslong dead each click to get data  simply taketoands. After  of garbage, no such claim makes was anyfound.  Source: \\/u\\/standard_schnauzer\\n\\nandhealth.ucdavis.edu\\/publish\\/newsroom\\/13362  * comprehensive policies [resulted in]  a red in firearm homicidsuin Connecticut*  an increaserepeMissouri.   ... [In CAlaw was hobbled] by inadequate criminal and mental  records, incomplete compliancthe small siz affbys.... As a , a large numberlikely paeirs even in case, accordlaw,shave been prohibited from purchasing a senior  Garen Wintemute notthe qualitynthe upon whichareted has improved significantly since 2000tudiesmore rigorous **permit-to-e lawsa clear benefit oning mortality by as much as 40 percent fors and 16s.**espo619\\n\\nTLDR; old law by bad  in 1991. Sdirectbetweendeathsyous to look up andlimithat's9880s8x8b38vskepticb38v\\/johns_hopkins_study_csheck\\/8757572qj8fzenaidamanghuhul53075651pgix2pciconsistent ka hahaha51965593fpoy7issw1_ec3ehxnPhilippin7isswnoon_random_discussion_dec_19c3fpoy79448012qjovdeaglebro3224112726bmk7Or attack speed\\/double damagehybrid mod,is OP48898buii386dswzbui7ftpathofexile6dswz\\/bsc_gloom_stinger_highborn_bow_ele_hit\\/644358sf6mLWMacca2447584383111y7mmYou're a joke man47694br4wjj2ne44r4vwescreenshot2ne44\\/got_it_again\\/5870776qhqaimbuedgre4374299oy46hLove your style! What sorencil(s)use to shade so softl59369obk9la0rxjlearntodrawa0rxj\\/ionito_try_these_more\\/81461085ub51L_Ennard5392450282e2jyx3I got just one query621258mn4du5hpm5GoCommitDie5hpm5\\/13_days_left_boyes\\/75113jyc32rat_rat_catcher371931973c4kzi... it seemrefs callsyearusor tha762444bqymoq5zvu1qygj15zvu1_chargers_103_at_kansas\\/8414410nico491222798\"bandera-cordoba\"C\\u00f316qxmHay varios que bardean el espect\\u00e1culo pero ,creo yo, estuvo bueno. Siempre hay algunos buscndole el pelo al huevo\\n\\nCumpli su objetivo, que era representar la diversidad cultural del pa\\u00eds, medianamente bien. A los lderes, al menos en apariencia, parece que les gusty la verdad que fue muy lindo,ble las luces y las proyeccionLo que si por ah no meo me sacde onda fuarte del rapero y el final en donde se pusieron a saltar y corear \\\"Argentina\\\" cual partido de f\\u00fatbol3622402atm3b91xj9ya1xj9y\\/el_g20_en_el_colon_viendo_un__sin_igual\\/6258279lTheOtterW5423205702ltzccjwA new bf959260b3fa0j355kt355kt\\/agift_to_get_my_gf_for_her_birthday\\/7020927consumer_of_meme518976145xoncdst9514991uwlk7a0941u8sdbingbongtheorem7a094\\/76793913i23tthekleenexma0990580jwq736Tornadowaterspoutexactsame, however what definesit is, i the origin was astyphoons4646324bnivzz5fnkwNatureIsFuckingL5fnkw\\/tornado_over_the_ocean\\/5263303gdh7UncleGeorg073389865c4xyThe fuck you on 'bout563917cg32s28yt9f1_ecg1bmg8yt9f_perfectlywas_made_worse_when\\/8007446560196cqrwcaacecvmeacecv\\/ly_janite\\/1874191jpg4254030bcd8pb48qbi1_ebcd7gmovi48qbi\\/but_why\\/7337-3sLuxuriousThrowAwa82703923dnabeWeapons andobjects can be tokens \\n\\nall these I'mtn' use of Doge06zn7qv6zencbt6zenc\\/bitcoin_cash_sdk_fors\\/730697btcsi5v4174543ba1e7y3w2801_eba0k25celebJObud3w280\\/i_wananna_kendrick_pregnanta1e7y29804613dd6jRated_PG-Squirt927185191796gbMike Harrington's a piece of shit, but he's absolutely Why is Remi Elie still playing onteam?  BrNylander and\\/or Oloffsonteam is gonna easily misplayoffs rate.  W fuck, trydifferen6220749cwy0ytb15alsabrb15al\\/mike_h_its_hardlieve__havent\\/82915202raobheadrush46n240140614Dolph81v1im pretty suymakee carde begyear and its all scheduled out. Its obviouily has no tangible lreality.\\n\\n\\nthe team disparity evenggravat414585b9b8jx3un8z1_eb9akc7MaddenUltimateTea3un8z\\/zero_chillb8jx858v23yjazzyxari443636973quaffWow, if seen a lot ofd bowling ballss buts crazy!  (Method is a sneaky good ball too!)230622c44j7w7isdlB7isdl\\/literally_got_this_drilledt44j7w78060793r3exapollo1888321483518699i0If The Apprentice tapeto bigot\\/racist,ively meaningless now. 6034781reze9aelcaelclongoing_the_alleged_trump\\/81984144cneqVirtualLuk523003292152y2mhF426274bciz5749hm9teenager49hm9\\/had_red_bull\\/7339905rjliKoffoo415242976j8Of course the initial conquering was brutal, I'm referry lgether. \\n\\nBritain wouldbe Celtic iors just establishedillaged then lefhopes of receiribut6141425cukhs9amjg41_ecui78Palamjgedic_taste_ofown_medicine\\/82514940qm21veryvisual79\"5445818472rnq7i1They do5374175c8hb694b8m2gonewil4b8m2this_is_definitely_on_favorites_i\\/78793581q5cNodoxxing12341646546sw1s3mI'm also c.. I see guyrange occasionallymddlingir sight39681773r38f360vz1_eb3oi6qgundeal360vz\\/other_polytech_556_boresight_1499\\/0264374rq8nMajesticButtercu397501816g4ja0Iadopt my totally awesome Boston Terriertwofamilies had given him up why had. The poor pup was 2.5oldn his third homemy husbanhim threago dudecome a centerin ouythrough a tough boueago. I am so happygaveso we werehim4471331ikciy4w5fli2uguchildfre4w5fl\\/i_hate_breeders_whridir_petsbikciy744156813twbHotGirl_NotATra4437529qvmr1YES! LET US GATHER AS HUMANS DO AND PERFORM REGULAR ACTIVITIES SUCH AS BREATHINGSPIRATION62812cykliqb7h891_ecyc9x6CrossStitchb7h89\\/focross_stitch_riddled_with_flaws_but_i\\/8334145rporknee-ch414714891j4n6f you're not biasedspolic'swrongssecsasl7zbTwoXChromoso1secs\\/cnn_reports_us__routinely_destroy_rape_kitss522jtskyblocker80469177985Spurs3\"e035c294-3feb-11e8-8a4f-0ecd9c58f44texttexzq0oConsidHouston had put inCP, itsenywanowalk away..5441129cafqgt8dpx28dpx2\\/is_cp3s_contract__much_the_endustafqgt7912301nbhpa5337835561y4pqdtGranted. Each and every onmyo mamdedicatedrsinsult you.\\n\\nI genuinelknow wworse, readings orgood for you thatchoose, you get both at once4083303b78kaq3lhujTheMonkeysP3lhuj\\/i_wish_i_could_see_s__08509423ovsjWHEW361505341\"#dadad987a8ce4-9f92b8f2-0e1f02b2395eNano BL &gt; AtomEikon | MD+aotpyMeasurf distortion and lineandlike I saw setsAudioScienceReviewe others have done mat some poi45761blnmxn5ambx1_eblhs09headphon5ambx\\/nano_idsd_label_vs_ifimicro\\/4948201rcyxHennessey_carter5440714062qc5uqjvThose symptomnormal. But I always weightout prcons. If opiates I'd, if notawayeventually. Also, I might be dead or die lol.enjoy living. Yaealthy attitudsubs betoI'm glad you se it'sone asprecovery.foundpushing myself to dohelps balance olack of '' to. feel comfortable at 4mg stanground docup to the end day. Ar relapse is. Sometimoo go back. All ayoustrostable5937732coch859ptc3suboxon9ptc3\\/1_year___update_and_help\\/814652t4yecomefindme123448652842sft6br4I feel3 year oldsatexplains why I often get killedDUMBEST way49334bw22vq6lwxmFortniteBattle6lwxm\\/so_when_i_went_to_the_bathroom_my_3y_brhad\\/767031353oojborgiorgi5378304212a5pepaaAs a means to misdirecaudienthinkinevileaked sets featuring popular Breaking Bad characters ivino5th season? Fthoughtyqya0atja77betterCallSau1qya0\\/will_bad_movie___cally42u05jShantotto1460684330x6mrkI usovertime to pay forta year. Netflix, Hulu (w\\/HBO), VRVAmazon50841c07lhc72m8p1_ebzwhyWhite72m8p\\/n_is_overrated_hulu_imove\\/774022135n7tfatp21399450336ckMegaditto51781����\f",
      "��!#fāP\u0010�@\f",
      "#A� ��\u0001�\u0013 \u0018,\u001e",
      "��$4M��\u0003\u0014��t�dH\u001c",
      "`X$\u0010��Aq(\u0005�`�\f",
      "\u001c",
      "\t�p(B\u0007<g��\n",
      "!\u0018Q��s[��)\u0015�k\u0019?�+\u001d",
      "*�\u001c",
      "�<n%����C��1\u0006�h8�B�\u001f��\u000b",
      "�:\u0017c�A�A�����\n",
      "\u001c",
      "�9_6�\u0005W��OP_�ݽ~�R��g\u0012ԣՎE��Y��g\u000e\u00027�@$\u001e",
      "�V�\u000e�[h�z/�\u0016�'/4\u001a7�;W\u001c",
      "��!�\u000e�5��S3 ^�J\u0001\\9�2m���5�L��E\u0003��!(ŷ7vD^g|�\u00103t�o���X`C��\u001a\n",
      "(�(���t�D��nW�\u001d",
      "`f� �����\u0006�/\u0017��~�8�}�\n",
      "�\u0001�c��^���5Ϻ���q?~\u001d",
      "\u0007˶���HE�#_�\\�P\u001e",
      "fų����\u001a˾�@�li>\u001e",
      "m;�Z��US�ʿ�\u0019Pt�z(\u0018\u000b",
      "<Y)MK\u0001*�0r�\u0004����%TL\u001fnCt�\u0004E�\u001d",
      "\u000f<��4S\u0010�\u0011�c��c��)�\u0016�j\f",
      ">�t3\u0017h�u��*7p3�<xsK��\u001fD��1>d!�H�x%�g8\t����]}\":����]~\u000b",
      "�U8o��W������\u0004F\u000f\u0002AO�G�J̘+��\u0003,n\f",
      "Q\u0019.\u0013�\u001e",
      "_dS���>��An0b�V�\n",
      "R�I�Qe\u0016��R��W��\u001ani��0/��rE�����C\u000e\u0014e�Ku�e�a*O�ײ���\u001d",
      "��t�l�\u001b���nI�e%\u0006MO���4f��\n",
      "\f",
      "i��$��E5\ta\u0015�WѴ�K\u000b",
      "㷷�m�[\u0011i\u0019B#b��7��jY�C0�Y���O��|��a�V�[j)-�]jte�a�\u001fc�g�t�v\u001a\"[�KoK\u001a_~j�~��ؿ\u0011\n",
      "�P0\t�ь��N̹\n",
      "�)�����v/⟞W��*\u000e�D2=����(e����\t�r#��@�1�|Q�Y  &�:��G��<\u0015\u000f\u0013�4��pw�\u0010Z�rL���R�Q��W�8���{Lu���J�de�\t\"&�\u0016��\u0011%<���$ɩ5��D�yУa\u001aLMb�\u001e",
      "Qˇ|\u00058�\f",
      "ʐ��I\\(���\t�L6\u0015D�s�\u001b�w��Qf�\n",
      "...\n",
      "\n"
     ]
    }
   ],
   "source": [
    "# Running this will start listening:\n",
    "ssc.start()"
   ]
  },
  {
   "cell_type": "code",
   "execution_count": 22,
   "id": "ebbdc8b7",
   "metadata": {},
   "outputs": [
    {
     "name": "stdout",
     "output_type": "stream",
     "text": [
      "-------------------------------------------\n",
      "Time: 2022-12-19 01:56:26\n",
      "-------------------------------------------\n",
      "���.�n�tb\u0015��S� 0��\u0002�BQ���O\u0010 ����\u0015\u0018�p.�����a_�yq�0ƀ�5�~����o\u0015G\u001e",
      ")�k{��t\b�)�����5#�{(�{J�L���TS{z\u001f�a|�k_\u0018�j\u0003�3I��#���e��c$*\u0001s��M�v\f",
      "��R�\n",
      "^�)\u0013��\u0011��\n",
      "���Nє|:���Z���\n",
      "\n"
     ]
    }
   ],
   "source": [
    "# IMPORTANT: you need the stopSparkContext=False, otherwise\n",
    "# your driver will die and you'll have to restart Jupyter\n",
    "ssc.stop(stopSparkContext=False)"
   ]
  },
  {
   "cell_type": "code",
   "execution_count": 1,
   "id": "fcb213e9",
   "metadata": {},
   "outputs": [
    {
     "name": "stdout",
     "output_type": "stream",
     "text": [
      "10\n"
     ]
    }
   ],
   "source": [
    "sc = spark._jsc.sc() \n",
    "n_workers =  len([executor.host() for executor in sc.statusTracker().getExecutorInfos() ]) -1\n",
    "\n",
    "print(n_workers)"
   ]
  },
  {
   "cell_type": "code",
   "execution_count": null,
   "id": "296b9fe6",
   "metadata": {},
   "outputs": [],
   "source": []
  }
 ],
 "metadata": {
  "kernelspec": {
   "display_name": "Python 3",
   "language": "python",
   "name": "python3"
  },
  "language_info": {
   "codemirror_mode": {
    "name": "ipython",
    "version": 3
   },
   "file_extension": ".py",
   "mimetype": "text/x-python",
   "name": "python",
   "nbconvert_exporter": "python",
   "pygments_lexer": "ipython3",
   "version": "3.8.8"
  }
 },
 "nbformat": 4,
 "nbformat_minor": 5
}
