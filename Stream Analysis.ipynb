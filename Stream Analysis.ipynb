{
 "cells": [
  {
   "cell_type": "markdown",
   "id": "f214a58b",
   "metadata": {},
   "source": [
    "# Trending Topics: Assuming you receive Reddit comments as a live stream, build a Spark streaming application that will consume the stream and determine what topics are trending over a particular window of time."
   ]
  },
  {
   "cell_type": "code",
   "execution_count": 47,
   "id": "f5dd4cab",
   "metadata": {},
   "outputs": [],
   "source": [
    "from pyspark.streaming import StreamingContext\n",
    "import json\n",
    "# import yake\n",
    "\n",
    "# The \"1\" here is the number of seconds between microbatches:\n",
    "ssc = StreamingContext(spark.sparkContext, 1)\n",
    "\n",
    "# Required to be able to do state updates:\n",
    "ssc.checkpoint(\"checkpoint\")"
   ]
  },
  {
   "cell_type": "code",
   "execution_count": null,
   "id": "c9425165",
   "metadata": {},
   "outputs": [],
   "source": [
    "# Updates our distribution\n",
    "def update_dist(new_values, old_values):\n",
    "    return sum(new_values) + (old_values or 0)"
   ]
  },
  {
   "cell_type": "code",
   "execution_count": 43,
   "id": "29146da4",
   "metadata": {},
   "outputs": [],
   "source": [
    "import pandas as pd\n",
    "import matplotlib.pyplot as plt\n",
    "\n",
    "# Assumes the stream is running on the same machine as the driver.\n",
    "# ./streamer2.sh 23999 /bigdata/mmalensek/data/reddit/2005/RC_2008-12.bz2\n",
    "\n",
    "sock = ssc.socketTextStream(\"orion05\", 23999)\n",
    "\n",
    "# Updates our distribution\n",
    "def update_dist(new_values, old_values):\n",
    "    return sum(new_values) + (old_values or 0)\n",
    "\n",
    "def map_get_body(s):\n",
    "    '''\n",
    "    The purpose of this function is to get the content of the body from a string\n",
    "    '''\n",
    "    # initializing substrings\n",
    "    sub1 = '\"body\":\"'\n",
    "    sub2 = '\",\"'\n",
    "\n",
    "    s=str(re.escape(sub1))\n",
    "    e=str(re.escape(sub2))\n",
    "\n",
    "    # printing result\n",
    "    res=re.findall(s+\"(.*)\"+e,test_str)[0]\n",
    "    \n",
    "    return res\n",
    "\n",
    "def keywords_extractor(s):\n",
    "    '''\n",
    "    Using yake library, this function will return an important keyword on a body\n",
    "    '''\n",
    "    kw_extractor = yake.KeywordExtractor()\n",
    "    language = \"en\"\n",
    "    max_ngram_size = 3\n",
    "    deduplication_threshold = 0.9\n",
    "    numOfKeywords = 1\n",
    "    custom_kw_extractor = yake.KeywordExtractor(lan=language, n=max_ngram_size, dedupLim=deduplication_threshold, top=numOfKeywords, features=None)\n",
    "    keywords = custom_kw_extractor.extract_keywords(text)\n",
    "    \n",
    "    return (keywords, 1)\n",
    "\n",
    "# Plots the distribution. This executes on the driver!\n",
    "def show_df(rdd):\n",
    "    '''\n",
    "    This function purpose is to show top 5 trending topic\n",
    "    '''\n",
    "    df = pd.DataFrame(rdd.collect(), columns=['trending_topic', 'frequency'])\n",
    "    df.sort_values('trending_topic', ascending=False)\n",
    "    df.head(5)\n",
    "\n",
    "body = sock.map(map_get_body)\\\n",
    "        .map(keywords_extractor)\\\n",
    "        .reduceByKey(lambda x, y: x + y)\n",
    "\n",
    "distrib = reduced.updateStateByKey(show_df)\n",
    "\n",
    "# Plot the new distribution for each microbatch\n",
    "distrib.foreachRDD(plot_distribution)\n",
    "\n",
    "body.pprint()"
   ]
  },
  {
   "cell_type": "code",
   "execution_count": 44,
   "id": "31708aac",
   "metadata": {},
   "outputs": [],
   "source": [
    "# Running this will start listening:\n",
    "ssc.start()"
   ]
  },
  {
   "cell_type": "code",
   "execution_count": 45,
   "id": "ebbdc8b7",
   "metadata": {},
   "outputs": [],
   "source": [
    "# IMPORTANT: you need the stopSparkContext=False, otherwise\n",
    "# your driver will die and you'll have to restart Jupyter\n",
    "ssc.stop(stopSparkContext=False)"
   ]
  },
  {
   "cell_type": "code",
   "execution_count": 1,
   "id": "fcb213e9",
   "metadata": {},
   "outputs": [
    {
     "name": "stdout",
     "output_type": "stream",
     "text": [
      "10\n"
     ]
    }
   ],
   "source": [
    "sc = spark._jsc.sc() \n",
    "n_workers =  len([executor.host() for executor in sc.statusTracker().getExecutorInfos() ]) -1\n",
    "\n",
    "print(n_workers)"
   ]
  },
  {
   "cell_type": "code",
   "execution_count": null,
   "id": "296b9fe6",
   "metadata": {},
   "outputs": [],
   "source": []
  }
 ],
 "metadata": {
  "kernelspec": {
   "display_name": "Python 3",
   "language": "python",
   "name": "python3"
  },
  "language_info": {
   "codemirror_mode": {
    "name": "ipython",
    "version": 3
   },
   "file_extension": ".py",
   "mimetype": "text/x-python",
   "name": "python",
   "nbconvert_exporter": "python",
   "pygments_lexer": "ipython3",
   "version": "3.8.8"
  }
 },
 "nbformat": 4,
 "nbformat_minor": 5
}
