{
 "cells": [
  {
   "cell_type": "markdown",
   "id": "f214a58b",
   "metadata": {},
   "source": [
    "# Trending Topics: Assuming you receive Reddit comments as a live stream, build a Spark streaming application that will consume the stream and determine what topics are trending over a particular window of time."
   ]
  },
  {
   "cell_type": "code",
   "execution_count": 22,
   "id": "f5dd4cab",
   "metadata": {},
   "outputs": [],
   "source": [
    "from pyspark.streaming import StreamingContext\n",
    "\n",
    "# The \"1\" here is the number of seconds between microbatches:\n",
    "ssc = StreamingContext(spark.sparkContext, 1)\n",
    "\n",
    "# Required to be able to do state updates:\n",
    "ssc.checkpoint(\"checkpoint\")"
   ]
  },
  {
   "cell_type": "code",
   "execution_count": 23,
   "id": "29146da4",
   "metadata": {},
   "outputs": [],
   "source": [
    "# Assumes the stream is running on the same machine as the driver.\n",
    "# ./streamer2.sh 23999 /bigdata/mmalensek/data/reddit/2005/RC_2005-12.bz2\n",
    "\n",
    "sock = ssc.socketTextStream(\"orion05\", 23999)\n",
    "\n",
    "# Updates our distribution\n",
    "def update_dist(new_values, old_values):\n",
    "    return sum(new_values) + (old_values or 0)\n",
    "\n",
    "# line = sock.map(lambda word: word)\n",
    "\n",
    "# distrib = line.updateStateByKey(update_dist)\n",
    "\n",
    "# Print out the distribution for good measure\n",
    "sock.pprint()"
   ]
  },
  {
   "cell_type": "code",
   "execution_count": 24,
   "id": "31708aac",
   "metadata": {},
   "outputs": [
    {
     "name": "stdout",
     "output_type": "stream",
     "text": [
      "-------------------------------------------\n",
      "Time: 2022-12-19 17:15:56\n",
      "-------------------------------------------\n",
      "���'^I����m�j`Yq��6\u0006b�\u0013+GE�\u0013�ѝB\u0011�싼\u0013�\u0019Ĭ�]%&\u0011��E�%�\u0010�k�tA�WCD諭�˛�\u0018SL�\u000e(u�b\u0017T?T|�E�\u0013�\u001f�\u001be~��zK\t�d|�j�$eܱ��`�\u0015>�=�\u0015�=���I���\u001b�Y]U���xV}�Q\bC/���%mi�>$�EX$q�$\u0004\u0018TDW�=d�=�\u0003L���\u00198��\f",
      "\n",
      "�sS�!���\u001d",
      "����\u0002\u0011\n",
      "u\u0016N,t,雼�TJ�7ܰu�\u000e�7)\u000e�����\u001d",
      "@�I\u001b�N�D�m\\]�T�\u0014_e�����-��6f\u0018���v�a6aXe\\\u0013t�:v|�o�J\u0002����\u000f\"��\"ھ�\u0018V�VX�\u001c",
      "Q}G�\u001c",
      "O\u001an�\u001a����_ I��Ȋ�\u0001��\u001d",
      "þ��yb1�\u00108���G�\u001d",
      "�\u0004�\u000f>�􅷁�p�\u0015\u001e",
      "�\u0007�\u0016��\u0006�k�)�T����\u000eq��|j�u�5�\u001e",
      "�d\u001d",
      "j\u001e",
      "=+��&�j%J�G.!Z�()R)V�Q�\u0005\u0005���`E����-�Ǘ�K���ty>����\u0012W���K(3p\u001f]�?{�w��e]��m�\u0002��@��f<�{�ī5�D�����e�Ik��\\��G�\u001b�E]�s��!�THy&\f",
      "��.�d\u0011�\u0007����\u001f\u0011j�G��\n",
      "^(�H��tK��;�\n",
      "NF\f",
      "��\u0018���bA�&���\u0010~\u000f7d�#��k� -����C,bhp���\u001f��~�BgB�ܸx�\u000fM�O>F�v�\u001aZ��y7lP�5��\u0004j��&8\u0002��e���8\u0012��zD�8K0��L�3�(\u001aQ�\n",
      "�D�ڞ\u0002�\u0004n\u0001�Q+{@�qlgF]�\u0006��ݚ�h�^\u000e�$.W֫�B�ob���`ªI��c��9�ELf�\u0007}OM�\u0011�ҏ���;���D�҈��@t��j\u001b�N�OD��O�c�i�\u0003�M\u001e",
      "�lf�A�\u0011�\u000eL�2\u0016�Ky��g�CP~��\u0011݁�Bk�_Se\u000b",
      "���~�\u0013((�ӆ￯+N�_��Ě\u0001\u0003JL5��T���ɝ\u001e",
      "�篗q�qO[�%�^LM\n",
      "8\u001d",
      "�\"׋���,�<���=Z�؆O+�,�^\u000e0���(86[�O�:B�ň�c\n",
      "��@\u0007�\u001d",
      "��Ʀq|��R�7)�g�`9�\u001d",
      "�\"Mfμ�\u0017�XQ�\u001f})\u0012�ؙ�����\u00016s\u000e���\t��y��߈�0aSX�l�ۥ�C\\߫��Bx\u0013�v�wsE�Pu�\f",
      "�VU\u001bvx-\u000fl-\u000eі�T\u001e",
      "!�qW���:l��!\b�\u0006\u0018\u0017�wiĕ8�PR\u001f��j��v��=,����PA\u000f�8��,��0\u0015q\u001c",
      "�� [.D�8m_s\u0007�\n",
      "��n�,h4��\u000e�`v�g\u0017�\u0002�1n�]���}�(�{��R\f",
      "\u001e",
      "�W���6¶*���\u001f��I�s+$�R֝w\u0017���[�5όt�s��������\f",
      "XJ�Ȍ�8o(�k\u0013�E�|�\u0019\u0003�#\u0003���~b�玊�P�\u001d",
      "�p�6���(�(�\n",
      "꒬����&Wi�\u0010uԎ�衣[�O��\u0005{hI\u000f�5�K|\u0011<�\u0006��\u001c",
      "����_�O��\u001c",
      "\n",
      "...\n",
      "\n"
     ]
    }
   ],
   "source": [
    "# Running this will start listening:\n",
    "ssc.start()"
   ]
  },
  {
   "cell_type": "code",
   "execution_count": 25,
   "id": "ebbdc8b7",
   "metadata": {},
   "outputs": [
    {
     "name": "stdout",
     "output_type": "stream",
     "text": [
      "-------------------------------------------\n",
      "Time: 2022-12-19 17:15:57\n",
      "-------------------------------------------\n",
      "��H/��;t��>^��[.V�僊Z��\u000f�5\u000f��� <L \u0019B����[[�x=��\f",
      "�J���������Z�1�O��dMx��\u0019\"\n",
      "���.�n�tb\u0015��S� 0��\u0002�BQ���O\u0010 ����\u0015\u0018�p.�����a_�yq�0ƀ�5�~����o\u0015G\u001e",
      ")�k{��t\b�)�����5#�{(�{J�L���TS{z\u001f�a|�k_\u0018�j\u0003�3I��#���e��c$*\u0001s��M�v\f",
      "��R�\n",
      "^�)\u0013��\u0011��\n",
      "\n"
     ]
    }
   ],
   "source": [
    "# IMPORTANT: you need the stopSparkContext=False, otherwise\n",
    "# your driver will die and you'll have to restart Jupyter\n",
    "ssc.stop(stopSparkContext=False)"
   ]
  },
  {
   "cell_type": "code",
   "execution_count": 1,
   "id": "fcb213e9",
   "metadata": {},
   "outputs": [
    {
     "name": "stdout",
     "output_type": "stream",
     "text": [
      "10\n"
     ]
    }
   ],
   "source": [
    "sc = spark._jsc.sc() \n",
    "n_workers =  len([executor.host() for executor in sc.statusTracker().getExecutorInfos() ]) -1\n",
    "\n",
    "print(n_workers)"
   ]
  },
  {
   "cell_type": "code",
   "execution_count": null,
   "id": "296b9fe6",
   "metadata": {},
   "outputs": [],
   "source": []
  }
 ],
 "metadata": {
  "kernelspec": {
   "display_name": "Python 3",
   "language": "python",
   "name": "python3"
  },
  "language_info": {
   "codemirror_mode": {
    "name": "ipython",
    "version": 3
   },
   "file_extension": ".py",
   "mimetype": "text/x-python",
   "name": "python",
   "nbconvert_exporter": "python",
   "pygments_lexer": "ipython3",
   "version": "3.8.8"
  }
 },
 "nbformat": 4,
 "nbformat_minor": 5
}
